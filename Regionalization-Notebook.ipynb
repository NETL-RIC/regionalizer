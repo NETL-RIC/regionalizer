{
 "cells": [
  {
   "cell_type": "markdown",
   "id": "d0be81ba-40ee-4696-9af4-a179829c5782",
   "metadata": {},
   "source": [
    "# Data Regionalization Example \n",
    "v2025.06.02"
   ]
  },
  {
   "cell_type": "markdown",
   "id": "a7d7db8b-966d-4127-b956-af65648a5ebf",
   "metadata": {},
   "source": [
    "# Setup"
   ]
  },
  {
   "cell_type": "markdown",
   "id": "5a937ad9-62f6-4bfa-af47-e92bd1681cc1",
   "metadata": {},
   "source": [
    "Run the following to get your virtual enviroment set up:\n",
    "\n",
    "```sh\n",
    "$ conda create -n geoc python=3.12\n",
    "$ conda activate geoc\n",
    "$ pip install openpyxl\n",
    "$ pip install geopandas\n",
    "$ pip install requests\n",
    "$ pip install matplotlib\n",
    "$ pip install jupyterlab\n",
    "```"
   ]
  },
  {
   "cell_type": "markdown",
   "id": "cac00765",
   "metadata": {},
   "source": [
    "Most of the data files used in this script are automatically downloaded from their sources (using Python's `requests` or Pandas's `read_excel`).\n",
    "\n",
    "The data file sources:\n",
    "\n",
    "- Balancing Authority Areas\n",
    "    - U.S. Energy Atlas ([.html](https://atlas.eia.gov/datasets/09550598922b429ca9f06b9a067257bd_255/explore))\n",
    "- U.S. Census Tracts\n",
    "    - U.S. Census Bureau TIGER Cartographic Boundary Files at 500k resolution (based on census year global parameter)\n",
    "        - 2020 ([.zip](https://www2.census.gov/geo/tiger/GENZ2020/shp/cb_2020_us_tract_500k.zip))\n",
    "- U.S. Counties\n",
    "    - U.S. Census Bureau TIGER Cartographic Boundary Files at 500k resolution (based on census year global parameter)\n",
    "        - 2020 ([.zip](https://www2.census.gov/geo/tiger/GENZ2020/shp/cb_2020_us_county_500k.zip))\n",
    "- U.S. States\n",
    "    - U.S. Census Bureau TIGER Cartographic Boundary Files at 500k resolution (based on census year global parameter)\n",
    "        - 2020 ([.zip](https://www2.census.gov/geo/tiger/GENZ2020/shp/cb_2020_us_state_500k.zip))\n",
    "- Coal Basins\n",
    "    - EIA.gov ([.zip](https://www.eia.gov/maps/map_data/cbm_4shps.zip))\n",
    "- Electricity Market Module Regions\n",
    "    - EIA.gov ([.html](https://www.eia.gov/outlooks/aeo/additional_docs.php))\n",
    "- NERC Subregions\n",
    "    - EIA ([.html](https://services1.arcgis.com/Hp6G80Pky0om7QvQ/arcgis/rest/services/NERC_Regions/FeatureServer/0/)) \n",
    "- Natural Gas Basins\n",
    "    - EPA's Office of Air and Radiation (OAP) and Office of Atmospheric Protection (OAP) ([.zip](https://edg.epa.gov/data/Public/OAR/OAP/Basins_Shapefile.zip)) "
   ]
  },
  {
   "cell_type": "markdown",
   "id": "b6b37e10-eb88-44cb-8541-3021462dbf9a",
   "metadata": {},
   "source": [
    "# Methods"
   ]
  },
  {
   "cell_type": "code",
   "execution_count": null,
   "id": "f94920ef-6190-4e67-97c3-39eeaac69957",
   "metadata": {},
   "outputs": [],
   "source": [
    "# Import required packages, globals, and methods\n",
    "import os\n",
    "import re\n",
    "\n",
    "import matplotlib.pyplot as plt\n",
    "import pandas as pd\n",
    "import numpy as np\n",
    "\n",
    "import regionalizer as rlyr"
   ]
  },
  {
   "cell_type": "code",
   "execution_count": null,
   "id": "9fb5dac8-c674-4da7-8981-28f4868219fc",
   "metadata": {},
   "outputs": [],
   "source": [
    "# Setup inline matplotlib plotting parameters\n",
    "%matplotlib inline"
   ]
  },
  {
   "cell_type": "code",
   "execution_count": null,
   "id": "45c7c77a-8019-4382-bbce-b8abed607aed",
   "metadata": {},
   "outputs": [],
   "source": [
    "# Set up the logger for convenience, as there are logging statements\n",
    "# throughout the code to tell us what's going on.\n",
    "logger = rlyr.get_logger()"
   ]
  },
  {
   "cell_type": "code",
   "execution_count": null,
   "id": "3461db6c",
   "metadata": {},
   "outputs": [],
   "source": [
    "# Show starting and ending region options.\n",
    "rlyr.show_start_extents()"
   ]
  },
  {
   "cell_type": "code",
   "execution_count": null,
   "id": "a70b2492-a5ef-42f0-8c65-7f31b8382aff",
   "metadata": {},
   "outputs": [],
   "source": [
    "rlyr.show_end_extents()"
   ]
  },
  {
   "cell_type": "markdown",
   "id": "8d1c4288-68ae-41e6-a64a-a70ccf074a2f",
   "metadata": {},
   "source": [
    "## Runtime"
   ]
  },
  {
   "cell_type": "markdown",
   "id": "2d57ba16-4587-44ef-94ac-11ad1b3cde18",
   "metadata": {},
   "source": [
    "Here, we can read and/or create the conversion matrices from our starting spatial extent&mdash;such as balancing authorities ('BA'), coal basins ('CB'), or natural gas basins ('NG')&mdash;to census tract.\n",
    "\n",
    "The weighting options are 'A' for areal and 'Eq' for equal.\n",
    "Use 'US' as the state to run for the whole U.S."
   ]
  },
  {
   "cell_type": "code",
   "execution_count": null,
   "id": "a7ab03a0-e0b6-4281-9f4e-9681c39a2659",
   "metadata": {},
   "outputs": [],
   "source": [
    "print(\"Census year:\", rlyr.CENSUS_YEAR)\n",
    "print(\"BA year:\", rlyr.BA_YEAR)"
   ]
  },
  {
   "cell_type": "code",
   "execution_count": null,
   "id": "42669d3e",
   "metadata": {
    "scrolled": true
   },
   "outputs": [],
   "source": [
    "M, codes, cen_codes = rlyr.get_m(start_extent='BA', end_extent='CT', weighting='A', state='US')"
   ]
  },
  {
   "cell_type": "markdown",
   "id": "2d60f7aa-0f69-4373-917d-0057b8432a6d",
   "metadata": {},
   "source": [
    "## Testing"
   ]
  },
  {
   "cell_type": "markdown",
   "id": "07c61a60-074d-4f24-b5d9-4a8df2c4b8b5",
   "metadata": {},
   "source": [
    "The conversion algorithm is:\n",
    "\n",
    "$$\n",
    "c = a \\times M\n",
    "$$\n",
    "\n",
    "where `a` is a vector of our input geometry's attributes (e.g., GWP amounts for balancing authorities), `M` is our conversion matrix, and `c` is the vector of our input geometry's attributes converted to census tract areas.\n",
    "\n",
    "We've already created `M`.\n",
    "Let's create `a`.\n",
    "\n",
    "Recall that the order of input geometries matters and must match the names given in `codes` list."
   ]
  },
  {
   "cell_type": "markdown",
   "id": "95f3ac45-4eaf-44df-8409-19baef68340d",
   "metadata": {},
   "source": [
    "### Prepare the data\n",
    "In this example, we'll use GWP (IPCC AR5 100-year, kg CO2e/MWh delivered) by BA based on the consumption mix results taken from NETL's GridMixExplorer v4.2 ([.html](https://netl.doe.gov/energy-analysis/details?id=f0f94954-3627-4e9b-a5c0-c29cfe419d1c)).\n",
    "These results are saved in the inputs directory as \"BA_GWP.csv\"."
   ]
  },
  {
   "cell_type": "code",
   "execution_count": null,
   "id": "57ef8856-06a4-4ab6-b39e-3db54b84a149",
   "metadata": {},
   "outputs": [],
   "source": [
    "def cleanup_ba_names(x):\n",
    "    p = re.compile(\"^(.*)\\\\s{1}\\\\(\\\\w+\\\\)$\")\n",
    "    r = p.search(x)\n",
    "    if r:\n",
    "        return r.group(1)\n",
    "    else:\n",
    "        return x\n",
    "\n",
    "\n",
    "# Testing w/ BA-level impacts from NETL's GridMixExplorer 4.2\n",
    "input_csv = os.path.join(\"inputs\", \"BA_GWP.csv\")\n",
    "if not os.path.isfile(input_csv):\n",
    "    raise OSError(\"Failed to find, '%s'\" % input_csv)\n",
    "\n",
    "data_in = pd.read_csv(input_csv)\n",
    "\n",
    "# Drop total column:\n",
    "data_in = data_in.drop(columns='Total')\n",
    "\n",
    "# Convert columns to rows\n",
    "data_in = data_in.melt(\n",
    "    id_vars=['Impact Category'],\n",
    "    var_name=\"BA_NAME\",\n",
    "    value_name=\"Value\"\n",
    ")\n",
    "\n",
    "# Drop impact category column\n",
    "data_in = data_in.drop(columns='Impact Category')\n",
    "\n",
    "# Remove the parenthetical, correct the all-caps, and gap-fill any mis-matches with original name\n",
    "data_in['NAME'] = data_in['BA_NAME'].apply(cleanup_ba_names)\n",
    "data_in = correct_ba_geo_names(data_in)\n",
    "data_in.loc[data_in['BA_NAME'].isna(), 'BA_NAME'] = data_in.loc[data_in['BA_NAME'].isna(), 'NAME']\n",
    "\n",
    "# Add the BA codes\n",
    "data_in = map_ba_codes(data_in)"
   ]
  },
  {
   "cell_type": "code",
   "execution_count": null,
   "id": "a4baa673-c7bc-49a6-afe1-e2069be09b22",
   "metadata": {
    "scrolled": true
   },
   "outputs": [],
   "source": [
    "data_in.loc[data_in['BA_CODE'].isna(), :]"
   ]
  },
  {
   "cell_type": "code",
   "execution_count": null,
   "id": "4f1fe413-f240-4653-a899-e8b5c79be382",
   "metadata": {},
   "outputs": [],
   "source": [
    "# Manual fixes to mis-matches\n",
    "data_in.loc[data_in['BA_NAME'] == 'Arlington Valley, LLC - AVBA', 'BA_CODE'] = 'DEAA'\n",
    "data_in.loc[data_in['BA_NAME'] == 'B.C. Hydro & Power Authority', 'BA_CODE'] = 'BCHA'\n",
    "data_in.loc[data_in['BA_NAME'] == 'Homestead, City of', 'BA_CODE'] = 'HST'\n",
    "data_in.loc[data_in['BA_NAME'] == 'NaturEner Power Watch, LLC (GWA)', 'BA_CODE'] = 'GWA'\n",
    "data_in.loc[data_in['BA_NAME'] == 'New Harquahala Generating Company, LLC - HGBA', 'BA_CODE'] = 'HGBA'\n",
    "data_in.loc[data_in['BA_NAME'] == 'New Smyrna Beach, Utilities Commission of', 'BA_CODE'] = 'NSB'\n",
    "data_in.loc[data_in['BA_NAME'] == 'NORTHWESTERN ENERGY', 'BA_CODE'] = 'NWMT'\n",
    "# This last one taken from DOE's BA lookup tool\n",
    "# https://www.energy.gov/femp/balancing-authority-lookup-tool\n",
    "data_in.loc[data_in['BA_NAME'] == 'South Carolina Electric & Gas Company', 'BA_CODE'] = 'SCEG'"
   ]
  },
  {
   "cell_type": "code",
   "execution_count": null,
   "id": "706b15ec-1cc5-4ed2-8e8b-ab762a99c23b",
   "metadata": {},
   "outputs": [],
   "source": [
    "data_in"
   ]
  },
  {
   "cell_type": "markdown",
   "id": "443bb72e-fd1a-4b7f-987d-e14aed3175e9",
   "metadata": {},
   "source": [
    "Convert units of kg CO2e/MWh delivered to kg CO2e by multiplying by the consumption, MWh.\n",
    "\n",
    "$$\n",
    "\\mathrm{Consumption} = \\mathrm{Net\\, Generation} + \\mathrm{Imports} - \\mathrm{Exports}\n",
    "$$\n"
   ]
  },
  {
   "cell_type": "markdown",
   "id": "39c7fb9b-688b-471c-817c-2735237cde6a",
   "metadata": {},
   "source": [
    "> The files `net_gen_sum_2016.csv` and `ba_trades_2016.csv` were generated using the development branch for version 2.0 of [ElectricityLCI](https://github.com/USEPA/ElectricityLCI/tree/development).\n",
    "> The pseudo-code for recreating these CSV files is as follows.\n",
    "\n",
    "1. From main.py, run imports (top matter), create root logger (in the if statement at the bottom of the model), and build model config for ELCI_1 (in main.main).\n",
    "2. From eia_io_trading.py, import everything (all libraries, globals, and methods).\n",
    "3. Find ba_io_trading_model method. Set `year`, `subregion`, and `regions_to_keep` variables to None. Execute all lines of code in this method down to (and including) the call to `qio_model`. Save two data frames to file:\n",
    "\n",
    "```python\n",
    "df_net_gen_sum.to_csv(\"net_gen_sum_2016.csv\")\n",
    "df_final_trade_out_filt_melted_merge[['export BAA', 'import BAA', 'value']].to_csv(\"ba_trades_2016.csv\", index=False)\n",
    "```"
   ]
  },
  {
   "cell_type": "code",
   "execution_count": null,
   "id": "c43f187b-cfaa-4b4c-90c2-49c1bab08c16",
   "metadata": {},
   "outputs": [],
   "source": [
    "# Define the net gen and trade CSV files; these were created in ElectricityLCI python package.\n",
    "ng_csv = os.path.join(\"inputs\", \"net_gen_sum_2016.csv\")\n",
    "bt_csv = os.path.join(\"inputs\", \"ba_trades_2016.csv\")\n",
    "\n",
    "# Read files (correct column names)\n",
    "ng_df = pd.read_csv(ng_csv)\n",
    "ng_df.columns = ['BA_CODES', 'NET_GEN']\n",
    "bt_df = pd.read_csv(bt_csv)\n",
    "\n",
    "# Get total exports by BAA\n",
    "ba_exp = bt_df.groupby(by='export BAA').agg({'value': 'sum'})\n",
    "ba_exp = ba_exp.reset_index()\n",
    "\n",
    "# Get total imports by BAA\n",
    "ba_imp = bt_df.groupby(by=\"import BAA\").agg({'value': 'sum'})\n",
    "ba_imp = ba_imp.reset_index()\n",
    "\n",
    "# Merge exports\n",
    "cons_df = pd.merge(\n",
    "    left=ng_df,\n",
    "    right=ba_exp,\n",
    "    left_on='BA_CODES',\n",
    "    right_on='export BAA',\n",
    "    how='left'\n",
    ")\n",
    "cons_df = cons_df.rename(columns={'value': 'Export'})\n",
    "\n",
    "# Merge imports\n",
    "cons_df = pd.merge(\n",
    "    left=cons_df,\n",
    "    right=ba_imp,\n",
    "    left_on='BA_CODES',\n",
    "    right_on='import BAA',\n",
    "    how='left'\n",
    ")\n",
    "cons_df = cons_df.rename(columns={'value': 'Import'})\n",
    "\n",
    "# Fill NaNs\n",
    "cons_df['Export'] = cons_df['Export'].fillna(0)\n",
    "cons_df['Import'] = cons_df['Import'].fillna(0)\n",
    "\n",
    "# Calculate consumption, MWh\n",
    "cons_df['Consumption'] = cons_df['NET_GEN'] - cons_df['Export'] + cons_df['Import']"
   ]
  },
  {
   "cell_type": "code",
   "execution_count": null,
   "id": "f70d22d7-e8c4-4650-a429-bddb49e895ab",
   "metadata": {
    "scrolled": true
   },
   "outputs": [],
   "source": [
    "cons_df"
   ]
  },
  {
   "cell_type": "code",
   "execution_count": null,
   "id": "e5c3bd2a-999a-433d-b384-1875791aa09f",
   "metadata": {},
   "outputs": [],
   "source": [
    "# Add consumption to GWP data frame\n",
    "data_in = pd.merge(\n",
    "    left=data_in,\n",
    "    right=cons_df,\n",
    "    left_on='BA_CODE',\n",
    "    right_on='BA_CODES',\n",
    "    how='left'\n",
    ")\n",
    "# NEW Correct any missing Consumption BAs\n",
    "data_in['Consumption'] = data_in['Consumption'].fillna(0)"
   ]
  },
  {
   "cell_type": "code",
   "execution_count": null,
   "id": "862cb542-e7a3-4a37-98de-0259cd07c6a4",
   "metadata": {},
   "outputs": [],
   "source": [
    "# Multiply Value (kg CO2e/MWh delivered) by Consumption (MWh).\n",
    "data_in['GWP'] = data_in['Value'] * data_in['Consumption']"
   ]
  },
  {
   "cell_type": "code",
   "execution_count": null,
   "id": "0be9e866-2f97-4b38-8f41-b17c6d7a42f1",
   "metadata": {},
   "outputs": [],
   "source": [
    "# Create the input array in the correct order.\n",
    "fix_negatives = True\n",
    "input_array = []\n",
    "for ba_code in codes:\n",
    "    tmp_df = data_in.query(\"BA_CODE == '%s'\" % ba_code)\n",
    "    if len(tmp_df) > 0:\n",
    "        input_val = float(tmp_df['GWP'].values[0])\n",
    "    else:\n",
    "        input_val = 0.0\n",
    "\n",
    "    # Add a check for negatives and fix\n",
    "    if fix_negatives and input_val < 0:\n",
    "        logger.info(\"Setting %f to zero for %s\" % (input_val, ba_code))\n",
    "        input_val = 0.0\n",
    "    input_array.append(input_val)"
   ]
  },
  {
   "cell_type": "markdown",
   "id": "59b6bfaf-b961-4055-9466-595c2ae894bd",
   "metadata": {},
   "source": [
    "### Run the calculation"
   ]
  },
  {
   "cell_type": "code",
   "execution_count": null,
   "id": "52bb0ebb-84c0-43c4-bf86-7b5e6ee6d600",
   "metadata": {},
   "outputs": [],
   "source": [
    "output_array = np.dot(input_array, M)"
   ]
  },
  {
   "cell_type": "markdown",
   "id": "c5ed22e6-e223-43a9-8e0f-57aeaa439c34",
   "metadata": {},
   "source": [
    "### Plot the results\n",
    "In this section, we will add the BA-level and census-tract-level data to their respective geo data frames and then plot them."
   ]
  },
  {
   "cell_type": "code",
   "execution_count": null,
   "id": "d065ddaa-2c3f-458a-a0f3-4f382836ac8c",
   "metadata": {},
   "outputs": [],
   "source": [
    "ba_geo = get_ba_geo(True, True)"
   ]
  },
  {
   "cell_type": "code",
   "execution_count": null,
   "id": "07a64a6b-371c-4553-8d11-a97436e2a893",
   "metadata": {},
   "outputs": [],
   "source": [
    "census_geo = get_census_geo(2020, 'us', True)"
   ]
  },
  {
   "cell_type": "code",
   "execution_count": null,
   "id": "690381b6-487f-4ce1-b96d-687c79415edb",
   "metadata": {
    "scrolled": true
   },
   "outputs": [],
   "source": [
    "# Add GWP to BA geodatabase\n",
    "ba_geo['GWP'] = 0.0\n",
    "for _, row in data_in.iterrows():\n",
    "    # Get the BA code and GWP value\n",
    "    ba_code = row['BA_CODE']\n",
    "    gwp = row['GWP']\n",
    "    # Search geodatabase for the BA code\n",
    "    s_crit = ba_geo['BA_CODE'] == ba_code\n",
    "    if s_crit.sum() > 0:\n",
    "        ba_geo.loc[s_crit, 'GWP'] = gwp\n"
   ]
  },
  {
   "cell_type": "code",
   "execution_count": null,
   "id": "afcc5a1d-887d-4c8a-90bd-2d553552b695",
   "metadata": {
    "scrolled": true
   },
   "outputs": [],
   "source": [
    "ba_geo.plot(\"GWP\", cmap='plasma', legend=True, figsize=(8,4))"
   ]
  },
  {
   "cell_type": "code",
   "execution_count": null,
   "id": "d39968a6-bbc4-4949-b900-8d6ffde8450c",
   "metadata": {},
   "outputs": [],
   "source": [
    "# Save the BA-level data to GeoJSON---remember the CRS needs to be WGS84\n",
    "to_save_ba = False\n",
    "if to_save_ba:\n",
    "    ba_outfile   = os.path.join(\"outputs\", \"ba_gwp.geojson\")\n",
    "    ba_wgs84 = ba_geo.to_crs(('epsg', 3857))\n",
    "    ba_wgs84.to_file(ba_outfile, driver=\"GeoJSON\")"
   ]
  },
  {
   "cell_type": "code",
   "execution_count": null,
   "id": "0b83c7f1-3819-43d2-a330-cc4acad19553",
   "metadata": {},
   "outputs": [],
   "source": [
    "# Add transformed GWP to census tracts\n",
    "# Remember the data order matches the cen_codes.\n",
    "census_geo['GWP'] = 0.0\n",
    "for idx, row in census_geo.iterrows():\n",
    "    cen_code = row['GEOID']\n",
    "    cen_idx = cen_codes.index(cen_code)\n",
    "    cen_amt = output_array[cen_idx]\n",
    "    census_geo.loc[idx, 'GWP'] = cen_amt"
   ]
  },
  {
   "cell_type": "code",
   "execution_count": null,
   "id": "3c0ae964-3f6d-4ec6-9de1-b934d3896e4e",
   "metadata": {},
   "outputs": [],
   "source": [
    "census_geo.plot(\"GWP\", cmap\n",
    "                ='plasma', legend=True, figsize=(8,4))\n",
    "# ct_png = os.path.join(\"outputs\", \"census_ba_a.png\")\n",
    "# plt.savefig(ct_png)"
   ]
  },
  {
   "cell_type": "code",
   "execution_count": null,
   "id": "cf9ce74c-f797-4d22-9622-31b3515b2184",
   "metadata": {},
   "outputs": [],
   "source": [
    "# Save as GeoJSON---remember the CRS needs to be WGS84\n",
    "to_save_ct = False\n",
    "if to_save_ct:\n",
    "    ct_outfile = os.path.join(\"outputs\", \"ct_ba_eq.geojson\")\n",
    "    census_wgs84 = census_geo.to_crs(('epsg', 3857))\n",
    "    census_wgs84.to_file(ct_outfile, driver=\"GeoJSON\")"
   ]
  }
 ],
 "metadata": {
  "kernelspec": {
   "display_name": "Python 3 (ipykernel)",
   "language": "python",
   "name": "python3"
  },
  "language_info": {
   "codemirror_mode": {
    "name": "ipython",
    "version": 3
   },
   "file_extension": ".py",
   "mimetype": "text/x-python",
   "name": "python",
   "nbconvert_exporter": "python",
   "pygments_lexer": "ipython3",
   "version": "3.12.1"
  }
 },
 "nbformat": 4,
 "nbformat_minor": 5
}
